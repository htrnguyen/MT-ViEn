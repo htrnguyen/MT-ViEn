{
 "cells": [
  {
   "cell_type": "code",
   "execution_count": null,
   "id": "f83358dd",
   "metadata": {},
   "outputs": [],
   "source": [
    "from src.data_utils import load_and_clean_csv, split_data, save_splits, print_data_stats, analyze_length_distribution\n",
    "\n",
    "# Đọc và làm sạch\n",
    "df = load_and_clean_csv(\"data/eng-vie.csv\")\n",
    "print_data_stats(df)\n",
    "\n",
    "# Chia dữ liệu\n",
    "train_df, val_df, test_df = split_data(df)\n",
    "save_splits(train_df, val_df, test_df, \"output\")\n",
    "\n",
    "# Thống kê trực quan\n",
    "analyze_length_distribution(train_df)\n"
   ]
  }
 ],
 "metadata": {
  "kernelspec": {
   "display_name": "py39",
   "language": "python",
   "name": "python3"
  },
  "language_info": {
   "name": "python",
   "version": "3.9.21"
  }
 },
 "nbformat": 4,
 "nbformat_minor": 5
}
